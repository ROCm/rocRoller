{
 "cells": [
  {
   "cell_type": "code",
   "execution_count": null,
   "id": "abc8732a",
   "metadata": {},
   "outputs": [],
   "source": [
    "from lib.matrix_utils import *"
   ]
  },
  {
   "cell_type": "code",
   "execution_count": null,
   "id": "2cb5f4f6",
   "metadata": {},
   "outputs": [],
   "source": [
    "%matplotlib inline"
   ]
  },
  {
   "cell_type": "code",
   "execution_count": null,
   "id": "b4ae3666",
   "metadata": {},
   "outputs": [],
   "source": [
    "# In a Docker container, move to the data directory.\n",
    "import os\n",
    "os.chdir(\"/data\")"
   ]
  },
  {
   "cell_type": "code",
   "execution_count": null,
   "id": "32b7f593",
   "metadata": {},
   "outputs": [],
   "source": [
    "fig = showMatrix(\"build_gcc/workitem.dat\", cmap=\"plasma\")"
   ]
  },
  {
   "cell_type": "code",
   "execution_count": null,
   "id": "fb383352",
   "metadata": {},
   "outputs": [],
   "source": [
    "fig = showMatrix(\"build_gcc/workgroups.dat\", cmap=\"plasma\")"
   ]
  },
  {
   "cell_type": "code",
   "execution_count": null,
   "id": "55f5e4e7",
   "metadata": {},
   "outputs": [],
   "source": [
    "fig = showMatrix(\"build_gcc/loop_idx.dat\")"
   ]
  },
  {
   "cell_type": "code",
   "execution_count": null,
   "id": "e7a8e63a",
   "metadata": {},
   "outputs": [],
   "source": []
  }
 ],
 "metadata": {
  "kernelspec": {
   "display_name": "Python 3",
   "language": "python",
   "name": "python3"
  },
  "language_info": {
   "codemirror_mode": {
    "name": "ipython",
    "version": 3
   },
   "file_extension": ".py",
   "mimetype": "text/x-python",
   "name": "python",
   "nbconvert_exporter": "python",
   "pygments_lexer": "ipython3",
   "version": "3.8.10"
  },
  "vscode": {
   "interpreter": {
    "hash": "31f2aee4e71d21fbe5cf8b01ff0e069b9275f58929596ceb00d14d90e3e16cd6"
   }
  }
 },
 "nbformat": 4,
 "nbformat_minor": 5
}
